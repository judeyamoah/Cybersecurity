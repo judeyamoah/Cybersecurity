{
  "nbformat": 4,
  "nbformat_minor": 0,
  "metadata": {
    "colab": {
      "provenance": [],
      "authorship_tag": "ABX9TyMaLx19p6idcroRUg5tscUu",
      "include_colab_link": true
    },
    "kernelspec": {
      "name": "python3",
      "display_name": "Python 3"
    },
    "language_info": {
      "name": "python"
    }
  },
  "cells": [
    {
      "cell_type": "markdown",
      "metadata": {
        "id": "view-in-github",
        "colab_type": "text"
      },
      "source": [
        "<a href=\"https://colab.research.google.com/github/judeyamoah/Cybersecurity/blob/main/Untitled2.ipynb\" target=\"_parent\"><img src=\"https://colab.research.google.com/assets/colab-badge.svg\" alt=\"Open In Colab\"/></a>"
      ]
    },
    {
      "cell_type": "code",
      "source": [
        "# prompt: import libraries for data preprocessing. import the data from /content/winequality-white.csv and print the head()\n",
        "\n",
        "import pandas as pd\n",
        "import numpy as np\n",
        "# from sklearn.model_selection import train_test_split\n",
        "# from sklearn.preprocessing import StandardScaler\n",
        "\n",
        "# Load the dataset\n",
        "data = pd.read_csv('/content/winequality-white.csv', sep=';')\n",
        "\n",
        "# Print the first few rows of the data\n",
        "print(data.head())\n"
      ],
      "metadata": {
        "colab": {
          "base_uri": "https://localhost:8080/"
        },
        "id": "hg4N006nIr-y",
        "outputId": "ae45a888-00b5-4c60-ca21-f833a5a0ab41"
      },
      "execution_count": null,
      "outputs": [
        {
          "output_type": "stream",
          "name": "stdout",
          "text": [
            "   fixed acidity  volatile acidity  citric acid  residual sugar  chlorides  \\\n",
            "0            7.0              0.27         0.36            20.7      0.045   \n",
            "1            6.3              0.30         0.34             1.6      0.049   \n",
            "2            8.1              0.28         0.40             6.9      0.050   \n",
            "3            7.2              0.23         0.32             8.5      0.058   \n",
            "4            7.2              0.23         0.32             8.5      0.058   \n",
            "\n",
            "   free sulfur dioxide  total sulfur dioxide  density    pH  sulphates  \\\n",
            "0                 45.0                 170.0   1.0010  3.00       0.45   \n",
            "1                 14.0                 132.0   0.9940  3.30       0.49   \n",
            "2                 30.0                  97.0   0.9951  3.26       0.44   \n",
            "3                 47.0                 186.0   0.9956  3.19       0.40   \n",
            "4                 47.0                 186.0   0.9956  3.19       0.40   \n",
            "\n",
            "   alcohol  quality  \n",
            "0      8.8        6  \n",
            "1      9.5        6  \n",
            "2     10.1        6  \n",
            "3      9.9        6  \n",
            "4      9.9        6  \n"
          ]
        }
      ]
    },
    {
      "cell_type": "code",
      "source": [
        "# prompt: genetate scripts to work on the data for the following : idenify outliers, missing values, duplicates, and inconsistencies. generate seperate line code for each\n",
        "\n",
        "# Identify outliers using IQR\n",
        "Q1 = data.quantile(0.25)\n",
        "Q3 = data.quantile(0.75)\n",
        "IQR = Q3 - Q1\n",
        "outliers = ((data < (Q1 - 1.5 * IQR)) | (data > (Q3 + 1.5 * IQR))).any(axis=1)\n",
        "\n",
        "# Identify missing values\n",
        "missing_values = data.isnull().sum()\n",
        "\n",
        "# Identify duplicate rows\n",
        "duplicates = data.duplicated().sum()\n",
        "\n",
        "# Identify inconsistencies (e.g., invalid values or data types)\n",
        "# Example: Check if 'fixed acidity' is within a reasonable range\n",
        "inconsistencies = data['fixed acidity'].apply(lambda x: x < 0 or x > 20).sum()\n",
        "\n",
        "print(\"Outliers:\", outliers.sum())\n",
        "print(\"Missing Values:\", missing_values.sum())\n",
        "print(\"Duplicate Rows:\", duplicates)\n",
        "print(\"Inconsistencies:\", inconsistencies )\n"
      ],
      "metadata": {
        "colab": {
          "base_uri": "https://localhost:8080/",
          "height": 216
        },
        "id": "FA8zkXsKJFtA",
        "outputId": "c86f9385-be9a-4857-cbe7-d86746688e73"
      },
      "execution_count": 1,
      "outputs": [
        {
          "output_type": "error",
          "ename": "NameError",
          "evalue": "name 'data' is not defined",
          "traceback": [
            "\u001b[0;31m---------------------------------------------------------------------------\u001b[0m",
            "\u001b[0;31mNameError\u001b[0m                                 Traceback (most recent call last)",
            "\u001b[0;32m<ipython-input-1-08836007192c>\u001b[0m in \u001b[0;36m<cell line: 0>\u001b[0;34m()\u001b[0m\n\u001b[1;32m      2\u001b[0m \u001b[0;34m\u001b[0m\u001b[0m\n\u001b[1;32m      3\u001b[0m \u001b[0;31m# Identify outliers using IQR\u001b[0m\u001b[0;34m\u001b[0m\u001b[0;34m\u001b[0m\u001b[0m\n\u001b[0;32m----> 4\u001b[0;31m \u001b[0mQ1\u001b[0m \u001b[0;34m=\u001b[0m \u001b[0mdata\u001b[0m\u001b[0;34m.\u001b[0m\u001b[0mquantile\u001b[0m\u001b[0;34m(\u001b[0m\u001b[0;36m0.25\u001b[0m\u001b[0;34m)\u001b[0m\u001b[0;34m\u001b[0m\u001b[0;34m\u001b[0m\u001b[0m\n\u001b[0m\u001b[1;32m      5\u001b[0m \u001b[0mQ3\u001b[0m \u001b[0;34m=\u001b[0m \u001b[0mdata\u001b[0m\u001b[0;34m.\u001b[0m\u001b[0mquantile\u001b[0m\u001b[0;34m(\u001b[0m\u001b[0;36m0.75\u001b[0m\u001b[0;34m)\u001b[0m\u001b[0;34m\u001b[0m\u001b[0;34m\u001b[0m\u001b[0m\n\u001b[1;32m      6\u001b[0m \u001b[0mIQR\u001b[0m \u001b[0;34m=\u001b[0m \u001b[0mQ3\u001b[0m \u001b[0;34m-\u001b[0m \u001b[0mQ1\u001b[0m\u001b[0;34m\u001b[0m\u001b[0;34m\u001b[0m\u001b[0m\n",
            "\u001b[0;31mNameError\u001b[0m: name 'data' is not defined"
          ]
        }
      ]
    },
    {
      "cell_type": "code",
      "source": [
        "# prompt: create avariables for the new data without ouliers, missing values and inconsistencies.\n",
        "# create a variable for new data without duplicate by keeping only 1 instance of the duplicated value\n",
        "\n",
        "# Create a copy of the original data\n",
        "data_cleaned = data.copy()\n",
        "\n",
        "# Remove outliers\n",
        "data_cleaned = data_cleaned[~outliers]\n",
        "\n",
        "# Remove missing values (if any)\n",
        "data_cleaned = data_cleaned.dropna()\n",
        "\n",
        "# Remove duplicate rows, keeping only the first occurrence\n",
        "data_cleaned = data_cleaned.drop_duplicates(keep='first')\n",
        "\n",
        "# You can further address inconsistencies here if you have specific rules\n",
        "# For example, if you want to replace invalid values with a specific value:\n",
        "# data_cleaned['fixed acidity'] = data_cleaned['fixed acidity'].apply(lambda x: 10 if x < 0 else x)\n",
        "\n",
        "print(\"Original data shape:\", data.shape)\n",
        "print(\"Data cleaned shape:\", data_cleaned.shape)\n",
        "\n",
        "print(\"Data info: \", data_cleaned.info())  # Check data types and nulls\n",
        "#print(data_cleaned.describe())  # Summary statistics"
      ],
      "metadata": {
        "colab": {
          "base_uri": "https://localhost:8080/"
        },
        "id": "2xCaMkv7KG2V",
        "outputId": "15424300-338a-4dad-9434-06ab56c3fd40"
      },
      "execution_count": null,
      "outputs": [
        {
          "output_type": "stream",
          "name": "stdout",
          "text": [
            "Original data shape: (4898, 12)\n",
            "Data cleaned shape: (3100, 12)\n",
            "<class 'pandas.core.frame.DataFrame'>\n",
            "Index: 3100 entries, 0 to 4897\n",
            "Data columns (total 12 columns):\n",
            " #   Column                Non-Null Count  Dtype  \n",
            "---  ------                --------------  -----  \n",
            " 0   fixed acidity         3100 non-null   float64\n",
            " 1   volatile acidity      3100 non-null   float64\n",
            " 2   citric acid           3100 non-null   float64\n",
            " 3   residual sugar        3100 non-null   float64\n",
            " 4   chlorides             3100 non-null   float64\n",
            " 5   free sulfur dioxide   3100 non-null   float64\n",
            " 6   total sulfur dioxide  3100 non-null   float64\n",
            " 7   density               3100 non-null   float64\n",
            " 8   pH                    3100 non-null   float64\n",
            " 9   sulphates             3100 non-null   float64\n",
            " 10  alcohol               3100 non-null   float64\n",
            " 11  quality               3100 non-null   int64  \n",
            "dtypes: float64(11), int64(1)\n",
            "memory usage: 314.8 KB\n",
            "Data info:  None\n"
          ]
        }
      ]
    },
    {
      "cell_type": "code",
      "source": [],
      "metadata": {
        "id": "5s2S_lMITAg4"
      },
      "execution_count": null,
      "outputs": []
    }
  ]
}